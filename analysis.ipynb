{
 "cells": [
  {
   "cell_type": "code",
   "execution_count": null,
   "outputs": [],
   "source": [
    "import pandas as pd\n",
    "from helpers.mappers import acaps_country_name_mapper, acaps_measure_mapper\n",
    "from helpers.utils import generate_dates"
   ],
   "metadata": {
    "collapsed": false,
    "pycharm": {
     "name": "#%%\n"
    }
   }
  },
  {
   "cell_type": "code",
   "execution_count": null,
   "outputs": [],
   "source": [
    "acaps_df = pd.read_excel('data/acaps_covid19_measures_dataset.xlsx', sheet_name=1, index_col=0,\n",
    "                             usecols=['ID', 'COUNTRY', 'REGION', 'LOG_TYPE', 'CATEGORY', 'MEASURE', 'TARGETED_POP_GROUP', 'COMMENTS', 'DATE_IMPLEMENTED',\n",
    "                                      'LINK'])\n",
    "acaps_df.dropna(subset=['DATE_IMPLEMENTED'], inplace=True)"
   ],
   "metadata": {
    "collapsed": false,
    "pycharm": {
     "name": "#%%\n"
    }
   }
  },
  {
   "cell_type": "code",
   "execution_count": null,
   "outputs": [],
   "source": [
    "with open('data/countries.txt') as f:\n",
    "    countries = f.read().splitlines()"
   ],
   "metadata": {
    "collapsed": false,
    "pycharm": {
     "name": "#%%\n"
    }
   }
  },
  {
   "cell_type": "code",
   "execution_count": null,
   "outputs": [],
   "source": [],
   "metadata": {
    "collapsed": false,
    "pycharm": {
     "name": "#%%\n"
    }
   }
  },
  {
   "cell_type": "code",
   "execution_count": null,
   "outputs": [],
   "source": [
    "pd.options.mode.chained_assignment = None\n",
    "dates = generate_dates()\n",
    "\n",
    "country_dfs = {}\n",
    "\n",
    "for country in countries:\n",
    "    country_df = pd.DataFrame(\n",
    "        columns=['Date', 'Public Gathering Limitations', 'School Closure', 'Public Services Closure', 'Border Closure', 'Partial Lockdown', 'Full Lockdown',\n",
    "                 'Protective Gear', 'Flight Restrictions', 'Awareness Campaigns', 'Quarantine'])\n",
    "\n",
    "    country_df['Date'] = dates\n",
    "    country_df['Date'] = pd.to_datetime(country_df['Date'])\n",
    "    country_df.fillna(0, inplace=True)\n",
    "    date_as_index = pd.Index(country_df['Date'])\n",
    "\n",
    "    country_rows: pd.DataFrame = acaps_df.loc[acaps_df['COUNTRY'] == acaps_country_name_mapper(country)]\n",
    "    for idx, country_row in country_rows.iterrows():\n",
    "        measure = acaps_measure_mapper(country_row['MEASURE'].lower().strip())\n",
    "        if measure:\n",
    "            date_row_idx = date_as_index.get_loc(country_row['DATE_IMPLEMENTED'])\n",
    "            country_df[measure][date_row_idx:] = 1  # Set all values corresponding to that measure to 1 beginning from that date\n",
    "\n",
    "    country_dfs[country] = country_df\n",
    "\n",
    "print('Finished')"
   ],
   "metadata": {
    "collapsed": false,
    "pycharm": {
     "name": "#%%\n"
    }
   }
  },
  {
   "cell_type": "code",
   "execution_count": 1,
   "metadata": {},
   "outputs": [],
   "source": []
  },
  {
   "cell_type": "code",
   "execution_count": 3,
   "metadata": {},
   "outputs": [],
   "source": [
    "acaps_df = pd.read_excel('data/acaps_covid19_measures_dataset.xlsx', sheet_name=1, index_col=0,\n",
    "                             usecols=['ID', 'COUNTRY', 'REGION', 'LOG_TYPE', 'CATEGORY', 'MEASURE', 'TARGETED_POP_GROUP', 'COMMENTS', 'DATE_IMPLEMENTED',\n",
    "                                      'LINK'])\n",
    "acaps_df.dropna(subset=['DATE_IMPLEMENTED'], inplace=True)"
   ]
  },
  {
   "cell_type": "code",
   "execution_count": 4,
   "metadata": {},
   "outputs": [],
   "source": [
    "with open('data/countries.txt') as f:\n",
    "    countries = f.read().splitlines()"
   ]
  },
  {
   "cell_type": "code",
   "execution_count": 6,
   "metadata": {},
   "outputs": [],
   "source": []
  },
  {
   "cell_type": "code",
   "execution_count": 8,
   "metadata": {},
   "outputs": [
    {
     "name": "stdout",
     "output_type": "stream",
     "text": [
      "Finished\n"
     ]
    }
   ],
   "source": [
    "pd.options.mode.chained_assignment = None\n",
    "dates = generate_dates()\n",
    "\n",
    "country_dfs = {}\n",
    "\n",
    "for country in countries:\n",
    "    country_df = pd.DataFrame(\n",
    "        columns=['Date', 'Public Gathering Limitations', 'School Closure', 'Public Services Closure', 'Border Closure', 'Partial Lockdown', 'Full Lockdown',\n",
    "                 'Protective Gear', 'Flight Restrictions', 'Awareness Campaigns', 'Quarantine'])\n",
    "\n",
    "    country_df['Date'] = dates\n",
    "    country_df['Date'] = pd.to_datetime(country_df['Date'])\n",
    "    country_df.fillna(0, inplace=True)\n",
    "    date_as_index = pd.Index(country_df['Date'])\n",
    "\n",
    "    country_rows: pd.DataFrame = acaps_df.loc[acaps_df['COUNTRY'] == acaps_country_name_mapper(country)]\n",
    "    for idx, country_row in country_rows.iterrows():\n",
    "        measure = acaps_measure_mapper(country_row['MEASURE'].lower().strip())\n",
    "        if measure:\n",
    "            date_row_idx = date_as_index.get_loc(country_row['DATE_IMPLEMENTED'])\n",
    "            country_df[measure][date_row_idx:] = 1  # Set all values corresponding to that measure to 1 beginning from that date\n",
    "\n",
    "    country_dfs[country] = country_df\n",
    "\n",
    "print('Finished')"
   ]
  },
  {
   "cell_type": "code",
   "execution_count": null,
   "metadata": {},
   "outputs": [],
   "source": []
  }
 ],
 "metadata": {
  "kernelspec": {
   "display_name": "Python 3",
   "language": "python",
   "name": "python3"
  },
  "language_info": {
   "codemirror_mode": {
    "name": "ipython",
    "version": 3
   },
   "file_extension": ".py",
   "mimetype": "text/x-python",
   "name": "python",
   "nbconvert_exporter": "python",
   "pygments_lexer": "ipython3",
   "version": "3.6.3"
  },
  "pycharm": {
   "stem_cell": {
    "cell_type": "raw",
    "source": [],
    "metadata": {
     "collapsed": false
    }
   }
  }
 },
 "nbformat": 4,
 "nbformat_minor": 2
}